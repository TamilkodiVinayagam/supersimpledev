{
 "cells": [
  {
   "cell_type": "markdown",
   "id": "134f242b-779b-4012-a04d-e9731db686ec",
   "metadata": {},
   "source": [
    "# File Handling\n",
    "\n",
    "The key function for working with files in Python is the open() function.\n",
    "\n",
    "The open() function takes two parameters; filename, and mode.\n",
    "\n",
    "There are four different methods (modes) for opening a file:"
   ]
  },
  {
   "cell_type": "markdown",
   "id": "d6247694-332d-45cd-bf6a-1c1827fc2a0c",
   "metadata": {},
   "source": [
    "\"r\" - Read - Default value. Opens a file for reading, error if the file does not exist\n",
    "\n",
    "\"a\" - Append - Opens a file for appending, creates the file if it does not exist\n",
    "\n",
    "\"w\" - Write - Opens a file for writing, creates the file if it does not exist\n",
    "\n",
    "\"x\" - Create - Creates the specified file, returns an error if the file exists"
   ]
  },
  {
   "cell_type": "markdown",
   "id": "49df440c-c84c-49b0-acef-40917b32470a",
   "metadata": {},
   "source": [
    "In addition you can specify if the file should be handled as binary or text mode"
   ]
  },
  {
   "cell_type": "markdown",
   "id": "aa19cd01-1bba-4f52-ab31-a395e76a84ea",
   "metadata": {},
   "source": [
    "\"t\" - Text - Default value. Text mode\n",
    "\n",
    "\"b\" - Binary - Binary mode (e.g. images)"
   ]
  },
  {
   "cell_type": "markdown",
   "id": "5a67799a-549c-4fc8-864e-73828914ae3a",
   "metadata": {},
   "source": [
    "# Syntax\n",
    "\n",
    "To open a file for reading it is enough to specify the name of the file:"
   ]
  },
  {
   "cell_type": "code",
   "execution_count": 5,
   "id": "33463dbe-0c40-4273-b88e-78b4e86718bb",
   "metadata": {
    "tags": []
   },
   "outputs": [
    {
     "name": "stdout",
     "output_type": "stream",
     "text": [
      "Hello! Welcome to demofile.txt\n",
      "This file is for testing purposes.\n",
      "Good Luck!\n",
      "\n"
     ]
    }
   ],
   "source": [
    "f = open(\"demofile.txt\")\n",
    "print(f.read())\n",
    "f.close()"
   ]
  },
  {
   "cell_type": "code",
   "execution_count": 6,
   "id": "ff310525-2aae-4b28-9588-d776fcdce1fa",
   "metadata": {
    "tags": []
   },
   "outputs": [
    {
     "name": "stdout",
     "output_type": "stream",
     "text": [
      "Hello! Welcome to demofile.txt\n",
      "This file is for testing purposes.\n",
      "Good Luck!\n",
      "\n"
     ]
    }
   ],
   "source": [
    "f = open(\"demofile.txt\", \"rt\")\n",
    "print(f.read())\n",
    "f.close()"
   ]
  },
  {
   "cell_type": "markdown",
   "id": "b4bc0679-6bd3-40c6-8372-9caed7b0566d",
   "metadata": {},
   "source": [
    "# Open a File on the Server"
   ]
  },
  {
   "cell_type": "code",
   "execution_count": 12,
   "id": "939f590c-72a7-4ff5-a625-70ad89cacb60",
   "metadata": {
    "tags": []
   },
   "outputs": [
    {
     "name": "stdout",
     "output_type": "stream",
     "text": [
      "Hello! Welcome to demofile.txt\n",
      "This file is for testing purposes.\n",
      "Good Luck!\n"
     ]
    }
   ],
   "source": [
    "f = open(\"demofile.txt\", \"r\")\n",
    "print(f.read())"
   ]
  },
  {
   "cell_type": "markdown",
   "id": "be08ee98-9cff-4b80-9d80-f360804bf0ac",
   "metadata": {},
   "source": [
    " If the file is located in a different location, you will have to specify the file path, like this:"
   ]
  },
  {
   "cell_type": "code",
   "execution_count": 7,
   "id": "7738e46d-6f97-4890-8ee5-8f16b63f2ad0",
   "metadata": {
    "tags": []
   },
   "outputs": [
    {
     "name": "stdout",
     "output_type": "stream",
     "text": [
      "Hello! Welcome to demofile.txt\n",
      "This file is for testing purposes.\n",
      "Good Luck!\n",
      "\n"
     ]
    }
   ],
   "source": [
    "f = open(\"C:/Users/Lenovo/OneDrive/Besant/Jupyter/Python/File Handling/demofile.txt\", \"r\")\n",
    "print(f.read())"
   ]
  },
  {
   "cell_type": "markdown",
   "id": "02a308d9-b839-471c-b2ca-96508c2d8382",
   "metadata": {},
   "source": [
    "# Read Only Parts of the File\n",
    "By default the read() method returns the whole text, but you can also specify how many characters you want to return:"
   ]
  },
  {
   "cell_type": "code",
   "execution_count": 8,
   "id": "f80cea4d-6f59-4c94-8d8a-1827c84634f0",
   "metadata": {
    "tags": []
   },
   "outputs": [
    {
     "name": "stdout",
     "output_type": "stream",
     "text": [
      "Hello!\n"
     ]
    }
   ],
   "source": [
    "f = open(\"demofile.txt\", \"r\")\n",
    "print(f.read(6))"
   ]
  },
  {
   "cell_type": "markdown",
   "id": "2119fc4f-fd6b-464e-9f06-0b51253912c9",
   "metadata": {},
   "source": [
    "# Read Lines"
   ]
  },
  {
   "cell_type": "code",
   "execution_count": 15,
   "id": "62f1cb08-0213-4d3d-866b-2150aaed13df",
   "metadata": {
    "tags": []
   },
   "outputs": [
    {
     "name": "stdout",
     "output_type": "stream",
     "text": [
      "Hello! Welcome to demofile.txt\n",
      "\n"
     ]
    }
   ],
   "source": [
    "f = open(\"demofile.txt\", \"r\")\n",
    "print(f.readline())"
   ]
  },
  {
   "cell_type": "code",
   "execution_count": 16,
   "id": "6eee0985-3fd3-4424-abed-35d9b7a83765",
   "metadata": {
    "tags": []
   },
   "outputs": [
    {
     "name": "stdout",
     "output_type": "stream",
     "text": [
      "Hello! Welcome to demofile.txt\n",
      "\n",
      "This file is for testing purposes.\n",
      "\n"
     ]
    }
   ],
   "source": [
    "f = open(\"demofile.txt\", \"r\")\n",
    "print(f.readline())\n",
    "print(f.readline())"
   ]
  },
  {
   "cell_type": "markdown",
   "id": "3dfbe32e-a6ff-4b6a-86e6-55bb83c03773",
   "metadata": {},
   "source": [
    "By looping through the lines of the file, you can read the whole file, line by line:"
   ]
  },
  {
   "cell_type": "code",
   "execution_count": 18,
   "id": "78722150-f7d0-4296-be4e-025b06bcdc1a",
   "metadata": {
    "tags": []
   },
   "outputs": [
    {
     "name": "stdout",
     "output_type": "stream",
     "text": [
      "Hello! Welcome to demofile.txt\n",
      "\n",
      "This file is for testing purposes.\n",
      "\n",
      "Good Luck!\n"
     ]
    }
   ],
   "source": [
    "f = open(\"demofile.txt\", \"r\")\n",
    "for x in f:\n",
    "    print(x)"
   ]
  },
  {
   "cell_type": "markdown",
   "id": "d388829e-3064-4054-82e0-886aab66d22b",
   "metadata": {},
   "source": [
    "# Close Files\n",
    "It is a good practice to always close the file when you are done with it."
   ]
  },
  {
   "cell_type": "code",
   "execution_count": 9,
   "id": "a518ae4e-5b6c-48c8-91c3-e511100536d8",
   "metadata": {
    "tags": []
   },
   "outputs": [
    {
     "name": "stdout",
     "output_type": "stream",
     "text": [
      "Hello! Welcome to demofile.txt\n",
      "\n"
     ]
    }
   ],
   "source": [
    "f = open(\"demofile.txt\", \"r\")\n",
    "print(f.readline())\n",
    "f.close()"
   ]
  },
  {
   "cell_type": "markdown",
   "id": "6d962673-7309-48f7-bd69-3c93c0c3c50f",
   "metadata": {},
   "source": [
    "Note: You should always close your files, in some cases, due to buffering, changes made to a file may not show until you close the file."
   ]
  },
  {
   "cell_type": "markdown",
   "id": "8e638f50-d403-4c88-97f8-c0dc53f6772b",
   "metadata": {},
   "source": [
    "# Create a New File\n",
    "To create a new file in Python, use the open() method, with one of the following parameters:\n",
    "\n",
    "\"x\" - Create - will create a file, returns an error if the file exist\n",
    "\n",
    "\"a\" - Append - will create a file if the specified file does not exist\n",
    "\n",
    "\"w\" - Write - will create a file if the specified file does not exist"
   ]
  },
  {
   "cell_type": "code",
   "execution_count": 15,
   "id": "a22f1bca-0fb5-4078-a048-a800f99485e5",
   "metadata": {
    "tags": []
   },
   "outputs": [],
   "source": [
    "f = open(\"myfile.txt\", \"x\")\n",
    "f= f.write(\"Hello Everyone\")\n"
   ]
  },
  {
   "cell_type": "markdown",
   "id": "a81e0e70-bfab-45db-b6f5-eba327a0b47f",
   "metadata": {},
   "source": [
    "# Write to an Existing File\n",
    "To write to an existing file, you must add a parameter to the open() function:\n",
    "\n",
    "\"a\" - Append - will append to the end of the file\n",
    "\n",
    "\"w\" - Write - will overwrite any existing content"
   ]
  },
  {
   "cell_type": "code",
   "execution_count": 16,
   "id": "cf04fa3d-43e9-4c9a-acc0-f55cba64cc6a",
   "metadata": {
    "tags": []
   },
   "outputs": [
    {
     "name": "stdout",
     "output_type": "stream",
     "text": [
      "Now the file has more content!\n"
     ]
    }
   ],
   "source": [
    "f = open(\"demofile2.txt\", \"a\")\n",
    "f.write(\"Now the file has more content!\")\n",
    "f.close()\n",
    "\n",
    "#open and read the file after the appending:\n",
    "f = open(\"demofile2.txt\", \"r\")\n",
    "print(f.read())"
   ]
  },
  {
   "cell_type": "code",
   "execution_count": 17,
   "id": "8480c7ff-d36a-4d21-9241-6d6c260dab14",
   "metadata": {
    "tags": []
   },
   "outputs": [
    {
     "name": "stdout",
     "output_type": "stream",
     "text": [
      "Now the file has more content!\n"
     ]
    }
   ],
   "source": [
    "f = open(\"demofile3.txt\", \"w\")\n",
    "f.write(\"Now the file has more content!\")\n",
    "f.close()\n",
    "\n",
    "#open and read the file after the overwriting:\n",
    "f = open(\"demofile3.txt\", \"r\")\n",
    "print(f.read())"
   ]
  },
  {
   "cell_type": "markdown",
   "id": "e6f6f103-3237-454b-a8eb-386a836cb9f2",
   "metadata": {},
   "source": [
    "# Delete a File\n",
    "To delete a file, you must import the OS module, and run its os.remove() function:"
   ]
  },
  {
   "cell_type": "code",
   "execution_count": 18,
   "id": "cc072421-16be-470e-8c03-a178a7d1ff35",
   "metadata": {
    "tags": []
   },
   "outputs": [],
   "source": [
    "import os\n",
    "os.remove(\"myfile.txt\")"
   ]
  },
  {
   "cell_type": "markdown",
   "id": "d533d164-3ea8-469a-819a-99abeb2b6a1d",
   "metadata": {},
   "source": [
    "# Check if File exist:\n",
    "To avoid getting an error, you might want to check if the file exists before you try to delete it:"
   ]
  },
  {
   "cell_type": "code",
   "execution_count": 20,
   "id": "75965659-2b3d-4201-a6e1-e5deeaa1cc85",
   "metadata": {
    "tags": []
   },
   "outputs": [
    {
     "name": "stdout",
     "output_type": "stream",
     "text": [
      "The file does not exist\n"
     ]
    }
   ],
   "source": [
    "import os\n",
    "if os.path.exists(\"demofile.txt\"):\n",
    "    os.remove(\"demofile.txt\")\n",
    "else:\n",
    "    print(\"The file does not exist\")"
   ]
  },
  {
   "cell_type": "markdown",
   "id": "1be6fbf4-bffc-4242-b148-3fe89a91e96c",
   "metadata": {},
   "source": [
    "# Delete Folder\n",
    "To delete an entire folder, use the os.rmdir() method:"
   ]
  },
  {
   "cell_type": "code",
   "execution_count": 22,
   "id": "80b97f3b-81df-44bd-832d-00bde4acc0f8",
   "metadata": {
    "tags": []
   },
   "outputs": [],
   "source": [
    "import os\n",
    "os.rmdir(\"myfolder\")"
   ]
  }
 ],
 "metadata": {
  "kernelspec": {
   "display_name": "Python 3 (ipykernel)",
   "language": "python",
   "name": "python3"
  },
  "language_info": {
   "codemirror_mode": {
    "name": "ipython",
    "version": 3
   },
   "file_extension": ".py",
   "mimetype": "text/x-python",
   "name": "python",
   "nbconvert_exporter": "python",
   "pygments_lexer": "ipython3",
   "version": "3.11.3"
  }
 },
 "nbformat": 4,
 "nbformat_minor": 5
}
